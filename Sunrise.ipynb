{
  "nbformat": 4,
  "nbformat_minor": 0,
  "metadata": {
    "colab": {
      "provenance": [],
      "authorship_tag": "ABX9TyOsXLusqipfmyojmhmear1b",
      "include_colab_link": true
    },
    "kernelspec": {
      "name": "python3",
      "display_name": "Python 3"
    },
    "language_info": {
      "name": "python"
    }
  },
  "cells": [
    {
      "cell_type": "markdown",
      "metadata": {
        "id": "view-in-github",
        "colab_type": "text"
      },
      "source": [
        "<a href=\"https://colab.research.google.com/github/AlperYildirim1/Astroarchaeology/blob/main/Sunrise.ipynb\" target=\"_parent\"><img src=\"https://colab.research.google.com/assets/colab-badge.svg\" alt=\"Open In Colab\"/></a>"
      ]
    },
    {
      "cell_type": "code",
      "source": [
        "!pip install astropy"
      ],
      "metadata": {
        "id": "u61Mq1N_Jauw"
      },
      "execution_count": null,
      "outputs": []
    },
    {
      "cell_type": "code",
      "execution_count": null,
      "metadata": {
        "id": "wSfAZ4NeJS_Y"
      },
      "outputs": [],
      "source": [
        "import numpy as np\n",
        "import math\n",
        "from astropy.time import Time\n",
        "from astropy.coordinates import get_sun, EarthLocation, AltAz\n",
        "import astropy.units as u\n",
        "\n",
        "OBSERVER_LAT = 32.245461\n",
        "OBSERVER_LON = 35.210617\n",
        "OBSERVER_ALT = 422\n",
        "\n",
        "\n",
        "HORIZON_ALTITUDE = 1.39\n",
        "\n",
        "YEAR_1 = -1250\n",
        "YEAR_2 = 625\n",
        "YEAR_3 = 2024\n",
        "\n",
        "def find_solstice_sunrise_azimuth(year, location, horizon_alt):\n",
        "\n",
        "    astro_year = year if year > 0 else year + 1\n",
        "    solstice_approx_time = Time({'year': astro_year, 'month': 12, 'day': 21, 'hour': 0, 'minute': 0, 'second': 0},\n",
        "                                format='ymdhms', scale='utc')\n",
        "    times_to_check = solstice_approx_time + np.linspace(4 * 60, 8 * 60, 500) * u.minute\n",
        "    observer_frame = AltAz(obstime=times_to_check, location=location)\n",
        "    sun_local_positions = get_sun(times_to_check).transform_to(observer_frame)\n",
        "\n",
        "    sunrise_indices = np.where((sun_local_positions.alt > horizon_alt*u.deg) & (np.roll(sun_local_positions.alt, 1) <= horizon_alt*u.deg))[0]\n",
        "\n",
        "    if len(sunrise_indices) > 0:\n",
        "        first_sunrise_index = sunrise_indices[0]\n",
        "        sunrise_azimuth = sun_local_positions[first_sunrise_index].az\n",
        "        return sunrise_azimuth.to_string(unit=u.deg, decimal=True, precision=4)\n",
        "    else:\n",
        "        return \"Sunrise not found for this horizon.\"\n",
        "\n",
        "if __name__ == \"__main__\":\n",
        "    observer_location_object = EarthLocation(lat=OBSERVER_LAT * u.deg, lon=OBSERVER_LON * u.deg, height=OBSERVER_ALT * u.m)\n",
        "\n",
        "    print(f\"Using Observer Location: Lat {OBSERVER_LAT}, Lon {OBSERVER_LON}, Alt {OBSERVER_ALT}m\")\n",
        "    print(f\"Using Mountain Horizon Angle: {HORIZON_ALTITUDE} degrees\")\n",
        "    print(\"=\"*75)\n",
        "\n",
        "    azimuth1 = find_solstice_sunrise_azimuth(YEAR_1, observer_location_object, HORIZON_ALTITUDE)\n",
        "    print(f\"In {YEAR_1} (Exodus Era), sunrise azimuth was: {azimuth1}\")\n",
        "\n",
        "    azimuth2 = find_solstice_sunrise_azimuth(YEAR_2, observer_location_object, HORIZON_ALTITUDE)\n",
        "    print(f\"In {YEAR_2} (Quranic Era), sunrise azimuth was: {azimuth2}\")\n",
        "\n",
        "    azimuth3 = find_solstice_sunrise_azimuth(YEAR_3, observer_location_object, HORIZON_ALTITUDE)\n",
        "    print(f\"In {YEAR_3} (Modern Era), sunrise azimuth was: {azimuth3}\")\n",
        "    print(\"=\"*75)"
      ]
    }
  ]
}